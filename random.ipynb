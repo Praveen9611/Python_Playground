{
 "cells": [
  {
   "cell_type": "code",
   "execution_count": 42,
   "id": "b8c41b61",
   "metadata": {},
   "outputs": [
    {
     "name": "stdout",
     "output_type": "stream",
     "text": [
      "Varun\n"
     ]
    }
   ],
   "source": [
    "#Who pays the bill\n",
    "import random\n",
    "friends = [\"Aakash\", \"Varun\", \"Sandeeep\", \"Vinod\", \"Praveen\"]\n",
    "# bill = random.randint(0,4)\n",
    "# print(friends[bill])\n",
    "print(random.choice(friends))\n"
   ]
  },
  {
   "cell_type": "code",
   "execution_count": 22,
   "id": "725f170d",
   "metadata": {},
   "outputs": [
    {
     "name": "stdout",
     "output_type": "stream",
     "text": [
      "Heads\n"
     ]
    }
   ],
   "source": [
    "#Heads or Tails\n",
    "import random \n",
    "head_or_tails = random.randint(0,1)\n",
    "if head_or_tails == 0:\n",
    "    print(\"Heads\")\n",
    "else:\n",
    "    print(\"Tails\")"
   ]
  },
  {
   "cell_type": "code",
   "execution_count": 23,
   "id": "315d4a2b",
   "metadata": {},
   "outputs": [
    {
     "name": "stdout",
     "output_type": "stream",
     "text": [
      "6\n"
     ]
    }
   ],
   "source": [
    "import random \n",
    "random_integer = random.randint(1,10)\n",
    "print(random_integer)"
   ]
  }
 ],
 "metadata": {
  "kernelspec": {
   "display_name": "Python 3",
   "language": "python",
   "name": "python3"
  },
  "language_info": {
   "codemirror_mode": {
    "name": "ipython",
    "version": 3
   },
   "file_extension": ".py",
   "mimetype": "text/x-python",
   "name": "python",
   "nbconvert_exporter": "python",
   "pygments_lexer": "ipython3",
   "version": "3.13.1"
  }
 },
 "nbformat": 4,
 "nbformat_minor": 5
}
